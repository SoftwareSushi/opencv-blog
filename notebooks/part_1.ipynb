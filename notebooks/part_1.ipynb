{
  "cells": [
    {
      "cell_type": "markdown",
      "metadata": {},
      "source": [
        "# Fundamentals of Image Manipulation with OpenCV"
      ]
    },
    {
      "cell_type": "markdown",
      "metadata": {},
      "source": [
        "\n",
        "OpenCV is the most common library for utilizing computer vision. In this first, we will be covering the foundational image manipulation techniques found within OpenCV that will both enable basic image manipulation, as well as serve as components of more advanced techniques that will be covered in later blogs within this series."
      ]
    },
    {
      "cell_type": "code",
      "execution_count": 1,
      "metadata": {},
      "outputs": [],
      "source": [
        "# @title Header_Code\n",
        "import base64\n",
        "import requests\n",
        "import urllib.request\n",
        "from IPython.display import display, HTML\n",
        "\n",
        "image_url = \"https://raw.githubusercontent.com/SoftwareSushi/marketing-resources/main/images/logo.png\"\n",
        "with urllib.request.urlopen(image_url) as response:\n",
        "    image_data = response.read()\n",
        "    encoded_image = base64.b64encode(image_data).decode()\n",
        "\n",
        "def load_html_from_github(raw_url):\n",
        "    response = requests.get(raw_url)\n",
        "    html_content = response.text\n",
        "    updated_html = html_content.replace('../images/logo.png', f\"data:image/png;base64, {encoded_image}\")\n",
        "    display(HTML(updated_html))\n"
      ]
    },
    {
      "cell_type": "code",
      "execution_count": 3,
      "metadata": {},
      "outputs": [
        {
          "data": {
            "text/html": [
              "<html>\n",
              "  <head>\n",
              "    <style>\n",
              "      body {\n",
              "        font-family: \"Arial\", sans-serif;\n",
              "        text-align: center;\n",
              "        background-color: #061445;\n",
              "        margin: 0;\n",
              "        padding: 80px 20px;\n",
              "      }\n",
              "      h1 {\n",
              "        color: #fff;\n",
              "        margin-bottom: 40px;\n",
              "        font-size: 36px;\n",
              "        font-weight: 600;\n",
              "        line-height: 1.3;\n",
              "        max-width: 1500px;\n",
              "        margin-left: auto;\n",
              "        margin-right: auto;\n",
              "      }\n",
              "\n",
              "      .cta-container {\n",
              "        display: flex;\n",
              "        justify-content: center;\n",
              "        flex-wrap: wrap;\n",
              "        gap: 20px;\n",
              "        margin-top: 40px;\n",
              "      }\n",
              "\n",
              "      .cta {\n",
              "        display: inline-block;\n",
              "        font-size: 22px;\n",
              "        font-weight: bold;\n",
              "        color: #2a84dc;\n",
              "        background-color: #ffffff;\n",
              "        padding: 20px 50px;\n",
              "        border-radius: 50px;\n",
              "        text-decoration: none;\n",
              "        box-shadow: 0 4px 15px rgba(0, 0, 0, 0.2);\n",
              "        transition: all 0.4s cubic-bezier(0.175, 0.885, 0.32, 1.275);\n",
              "        position: relative;\n",
              "        overflow: hidden;\n",
              "        z-index: 1;\n",
              "      }\n",
              "\n",
              "      .cta:before {\n",
              "        content: \"\";\n",
              "        position: absolute;\n",
              "        top: 0;\n",
              "        left: -100%;\n",
              "        width: 100%;\n",
              "        height: 100%;\n",
              "        background: linear-gradient(\n",
              "          90deg,\n",
              "          rgba(255, 255, 255, 0.1) 0%,\n",
              "          rgba(255, 255, 255, 0.3) 50%,\n",
              "          rgba(255, 255, 255, 0) 100%\n",
              "        );\n",
              "        transition: all 0.4s ease;\n",
              "        z-index: -1;\n",
              "      }\n",
              "\n",
              "      .cta:hover {\n",
              "        background-color: #0f57a1;\n",
              "        color: #ffffff;\n",
              "        transform: translateY(-5px);\n",
              "        box-shadow: 0 10px 20px rgba(0, 0, 0, 0.3);\n",
              "      }\n",
              "\n",
              "      .cta:hover:before {\n",
              "        left: 100%;\n",
              "      }\n",
              "\n",
              "      .cta:active {\n",
              "        transform: translateY(0px);\n",
              "        box-shadow: 0 4px 8px rgba(0, 0, 0, 0.3);\n",
              "        transition: all 0.1s;\n",
              "      }\n",
              "\n",
              "      .cta-website:hover {\n",
              "        background-color: #127ae2;\n",
              "      }\n",
              "\n",
              "      .cta-call:hover {\n",
              "        background-color: #0c7c59;\n",
              "      }\n",
              "\n",
              "      .sub-text {\n",
              "        color: #fff;\n",
              "        font-size: 18px;\n",
              "        margin-top: 40px;\n",
              "        font-style: italic;\n",
              "      }\n",
              "\n",
              "      .social-proof {\n",
              "        color: #a9c2e8;\n",
              "        font-size: 18px;\n",
              "        margin-top: 40px;\n",
              "        font-style: italic;\n",
              "      }\n",
              "    </style>\n",
              "  </head>\n",
              "\n",
              "  <body>\n",
              "    <img src=\"data:image/png;base64, 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\" alt=\"Software Sushi Logo\" />\n",
              "    <div class=\"cta-container\">\n",
              "      <a\n",
              "        href=\"https://softwaresushi.com/\"\n",
              "        target=\"_blank\"\n",
              "        class=\"cta cta-website\"\n",
              "        >Explore Our Services ➔</a\n",
              "      >\n",
              "      <a\n",
              "        href=\"https://calendly.com/softwaresushi/quick-chat\"\n",
              "        target=\"_blank\"\n",
              "        class=\"cta cta-call\"\n",
              "        >Book a Free Consultation ➔</a\n",
              "      >\n",
              "    </div>\n",
              "    <p class=\"social-proof\">\n",
              "      5-star satisfaction from every client engagement.\n",
              "    </p>\n",
              "  </body>\n",
              "</html>\n"
            ],
            "text/plain": [
              "<IPython.core.display.HTML object>"
            ]
          },
          "metadata": {},
          "output_type": "display_data"
        }
      ],
      "source": [
        "# @title Header\n",
        "load_html_from_github('https://raw.githubusercontent.com/SoftwareSushi/marketing-resources/refs/heads/main/html/cta-banner-with-logo.html')"
      ]
    },
    {
      "cell_type": "markdown",
      "metadata": {},
      "source": [
        "### Imports & Sample Images"
      ]
    },
    {
      "cell_type": "code",
      "execution_count": 4,
      "metadata": {
        "id": "C4WKUfD1V9L8"
      },
      "outputs": [
        {
          "ename": "ModuleNotFoundError",
          "evalue": "No module named 'cv2'",
          "output_type": "error",
          "traceback": [
            "\u001b[31m---------------------------------------------------------------------------\u001b[39m",
            "\u001b[31mModuleNotFoundError\u001b[39m                       Traceback (most recent call last)",
            "\u001b[36mCell\u001b[39m\u001b[36m \u001b[39m\u001b[32mIn[4]\u001b[39m\u001b[32m, line 1\u001b[39m\n\u001b[32m----> \u001b[39m\u001b[32m1\u001b[39m \u001b[38;5;28;01mimport\u001b[39;00m\u001b[38;5;250m \u001b[39m\u001b[34;01mcv2\u001b[39;00m\n\u001b[32m      2\u001b[39m \u001b[38;5;28;01mimport\u001b[39;00m\u001b[38;5;250m \u001b[39m\u001b[34;01mnumpy\u001b[39;00m\u001b[38;5;250m \u001b[39m\u001b[38;5;28;01mas\u001b[39;00m\u001b[38;5;250m \u001b[39m\u001b[34;01mnp\u001b[39;00m\n\u001b[32m      3\u001b[39m \u001b[38;5;28;01mimport\u001b[39;00m\u001b[38;5;250m \u001b[39m\u001b[34;01murllib\u001b[39;00m\u001b[34;01m.\u001b[39;00m\u001b[34;01mrequest\u001b[39;00m\n",
            "\u001b[31mModuleNotFoundError\u001b[39m: No module named 'cv2'"
          ]
        }
      ],
      "source": [
        "import cv2\n",
        "import numpy as np\n",
        "import urllib.request\n",
        "import matplotlib.pyplot as plt\n",
        "\n",
        "from google.colab.patches import cv2_imshow"
      ]
    },
    {
      "cell_type": "code",
      "execution_count": null,
      "metadata": {
        "id": "adPC1sCoX_N5"
      },
      "outputs": [],
      "source": [
        "# Collecting the sample image\n",
        "image_url = \"https://raw.githubusercontent.com/SoftwareSushi/marketing-resources/main/images/Windows%20XP%20Background.jpg\"\n",
        "resp = urllib.request.urlopen(image_url)\n",
        "image_bytes = np.asarray(bytearray(resp.read()), dtype=np.uint8)"
      ]
    },
    {
      "cell_type": "markdown",
      "metadata": {},
      "source": [
        "### Utils"
      ]
    },
    {
      "cell_type": "code",
      "execution_count": null,
      "metadata": {
        "id": "MIQolDUhX_Lm"
      },
      "outputs": [],
      "source": [
        "def create_mpl_figure(w,h,images):\n",
        "    plt.figure(figsize=[w,h])\n",
        "    for i, image in enumerate(images):\n",
        "        plt.subplot(1,len(images),i+1); plt.imshow(image); plt.title(f'Image {i+1}'); plt.axis('off');"
      ]
    },
    {
      "cell_type": "markdown",
      "metadata": {},
      "source": [
        "## List of Techniques"
      ]
    },
    {
      "cell_type": "markdown",
      "metadata": {},
      "source": [
        "* Draw rectangle\n",
        "* Draw circle\n",
        "* Draw text\n",
        "* Resizing\n",
        "* Translation\n",
        "* Rotation\n",
        "* Horizontal Flipping\n",
        "* Vertical Flipping\n",
        "* Cropping\n",
        "* Zooming"
      ]
    },
    {
      "cell_type": "markdown",
      "metadata": {},
      "source": [
        "## Use Cases"
      ]
    },
    {
      "cell_type": "markdown",
      "metadata": {},
      "source": [
        "In this blog, we will be covering a variety of basic image manipulation techniques, all of which have a number of very useful implementations. Whether it be using rectangels, circles, resizing or cropping in order to track objects in images or videos, or using a combination of cropping, rotation, flipping in order to train a machine learning model to better recognize a given subject, each of these techniques has a variety of different real world applications which makes them useful."
      ]
    },
    {
      "cell_type": "markdown",
      "metadata": {},
      "source": [
        "## Techniques"
      ]
    },
    {
      "cell_type": "markdown",
      "metadata": {},
      "source": [
        "### Drawing on Images"
      ]
    },
    {
      "cell_type": "markdown",
      "metadata": {},
      "source": [
        "**What it does:** Adds visual elements (shapes and text) to an image."
      ]
    },
    {
      "cell_type": "markdown",
      "metadata": {},
      "source": [
        "**Why it matters:** Drawing on images is useful for annotation, visualization, or debugging during processing."
      ]
    },
    {
      "cell_type": "markdown",
      "metadata": {},
      "source": [
        "**The Code & Output**"
      ]
    },
    {
      "cell_type": "code",
      "execution_count": null,
      "metadata": {},
      "outputs": [],
      "source": [
        "# Reading the sample image\n",
        "bgr_image = cv2.imdecode(image_bytes, cv2.IMREAD_COLOR)\n",
        "\n",
        "# Color conversion to ensure proper display of images\n",
        "image = cv2.cvtColor(bgr_image, cv2.COLOR_BGR2RGB)\n",
        "image_edit = cv2.cvtColor(bgr_image, cv2.COLOR_BGR2RGB)\n",
        "\n",
        "# Image Transformations\n",
        "cv2.line(image_edit, (50, 50), (200, 50), (0, 255, 0), 2)\n",
        "cv2.rectangle(image_edit, (50, 100), (200, 200), (255, 0, 0), 3)\n",
        "cv2.circle(image_edit, (150, 300), 40, (0, 0, 255), -1)\n",
        "cv2.putText(image_edit, \"OpenCV\", (50, 350), cv2.FONT_HERSHEY_SIMPLEX, 1, (255, 255, 255), 2)\n",
        "\n",
        "# Creation of the MatPlotLib figure for comparison of images\n",
        "create_mpl_figure(30,10, [image, image_edit])"
      ]
    },
    {
      "cell_type": "markdown",
      "metadata": {},
      "source": [
        "### Resizing"
      ]
    },
    {
      "cell_type": "markdown",
      "metadata": {},
      "source": [
        "**What it does:** Resizing scales an image according to desired size of an image, scale factors fx and fy, and an interpolation method."
      ]
    },
    {
      "cell_type": "markdown",
      "metadata": {},
      "source": [
        "**Why it matters:** Resizing, and more broadly image scaling as a whole can be very useful when it comes to image processing in the process of training a machine learning model. By reducing the number of pixels in an image, it can reduce the amount of time spent training for a given model by presenting it with less complex, albeit less accurate training data."
      ]
    },
    {
      "cell_type": "markdown",
      "metadata": {},
      "source": [
        "**The Code & Output**"
      ]
    },
    {
      "cell_type": "code",
      "execution_count": null,
      "metadata": {},
      "outputs": [],
      "source": [
        "# Reading the sample image\n",
        "bgr_image = cv2.imdecode(image_bytes, cv2.IMREAD_COLOR)\n",
        "\n",
        "# Color conversion to ensure proper display of images\n",
        "image = cv2.cvtColor(bgr_image, cv2.COLOR_BGR2RGB)\n",
        "\n",
        "# Getting the dimensions of the image\n",
        "height, width = image.shape[:2]\n",
        "\n",
        "# Creating the resized image\n",
        "resized_image = cv2.resize(image, (0,0), fx=0.1, fy=0.1, interpolation=cv2.INTER_LINEAR)\n",
        "\n",
        "# Creation of the MatPlotLib figure for comparison of images\n",
        "create_mpl_figure(30,10, [image, resized_image])"
      ]
    },
    {
      "cell_type": "markdown",
      "metadata": {},
      "source": [
        "### Translation"
      ]
    },
    {
      "cell_type": "markdown",
      "metadata": {},
      "source": [
        "**What it does:** Shifts a given image by a specified number of pixels along the x and y axes. These pixel shifts can be represented by the following notations: tx & ty"
      ]
    },
    {
      "cell_type": "markdown",
      "metadata": {},
      "source": [
        "**Why it matters:** Image translations are often used for object tracking, image alignment, and augmentation of data used for machine learning."
      ]
    },
    {
      "cell_type": "markdown",
      "metadata": {},
      "source": [
        "**The Code & Output**"
      ]
    },
    {
      "cell_type": "code",
      "execution_count": null,
      "metadata": {},
      "outputs": [],
      "source": [
        "# Reading the sample image\n",
        "bgr_image = cv2.imdecode(image_bytes, cv2.IMREAD_COLOR)\n",
        "\n",
        "# Color conversion to ensure proper display of images\n",
        "image = cv2.cvtColor(bgr_image, cv2.COLOR_BGR2RGB)\n",
        "\n",
        "# Image Translation\n",
        "# Getting the dimensions of the image\n",
        "height, width = image.shape[:2]\n",
        "\n",
        "# Create translation values\n",
        "tx, ty = width / 4, height / 4\n",
        "\n",
        "# Create translation matrix\n",
        "translation_matrix = np.array([\n",
        "    [1, 0, tx],\n",
        "    [0, 1, ty]\n",
        "], dtype=np.float32)\n",
        "\n",
        "# Apply matrix to image\n",
        "translated_image = cv2.warpAffine(src=image, M=translation_matrix, dsize=(width, height))\n",
        "\n",
        "# Creation of the MatPlotLib figure for comparison of images\n",
        "create_mpl_figure(30,10, [image, translated_image])"
      ]
    },
    {
      "cell_type": "markdown",
      "metadata": {},
      "source": [
        "### Rotation"
      ]
    },
    {
      "cell_type": "markdown",
      "metadata": {},
      "source": [
        "**What it does:** Allows users to rotate a given image about a certain point in the image by a specified number of degrees using a rotation matrix, or by the center of the image in 90 degree increments by using the getRotationMatrix2D() & warpAffine() methods or the rotate() method accordingly."
      ]
    },
    {
      "cell_type": "markdown",
      "metadata": {},
      "source": [
        "**Why it matters:** Rotation can be used to automate rotation of important physical documents submitted electronically, increasing accuracy of other methods for recognizing text and images on scanned / photographically captured documents."
      ]
    },
    {
      "cell_type": "markdown",
      "metadata": {},
      "source": [
        "**The Code & Output**"
      ]
    },
    {
      "cell_type": "code",
      "execution_count": null,
      "metadata": {},
      "outputs": [],
      "source": [
        "# Reading the sample image\n",
        "bgr_image = cv2.imdecode(image_bytes, cv2.IMREAD_COLOR)\n",
        "\n",
        "# Color conversion to ensure proper display of images\n",
        "image = cv2.cvtColor(bgr_image, cv2.COLOR_BGR2RGB)\n",
        "\n",
        "# Specific Degree Rotation\n",
        "# Getting the dimensions of the image and the centerpoint\n",
        "height, width = image.shape[:2]\n",
        "center = (width/2, height/2)\n",
        "\n",
        "# Creating rotation matrix and applying it to the image, retaining the same dimensions\n",
        "rotate_matrix = cv2.getRotationMatrix2D(center=center, angle=45, scale=1)\n",
        "rotated_image = cv2.warpAffine(src=image, M=rotate_matrix, dsize=(width, height))\n",
        "\n",
        "# 90-Degree Increment Rotation\n",
        "rotated_image_2 = cv2.rotate(image, cv2.ROTATE_180) # Also try ROTATE_90_CLOCKWISE, ROTATE_90_COUNTERCLOCKWISE\n",
        "\n",
        "# Creation of the MatPlotLib figure for comparison of images\n",
        "create_mpl_figure(30,10, [image, rotated_image, rotated_image_2])"
      ]
    },
    {
      "cell_type": "markdown",
      "metadata": {},
      "source": [
        "### Flipping"
      ]
    },
    {
      "cell_type": "markdown",
      "metadata": {},
      "source": [
        "**What it does:** Flips a given image about either the x axis, the y axis, or the x and y axis using the according flip codes 0, 1, and -1."
      ]
    },
    {
      "cell_type": "markdown",
      "metadata": {},
      "source": [
        "**Why it matters:** Flipping images can create more reliable machine learning models by providing them with new data samples of existing data on which they have been trained. It can be also used to correct orientation of camera feeds for surveillance purposes, among many other uses."
      ]
    },
    {
      "cell_type": "markdown",
      "metadata": {},
      "source": [
        "**The Code & Output**"
      ]
    },
    {
      "cell_type": "code",
      "execution_count": null,
      "metadata": {},
      "outputs": [],
      "source": [
        "# Reading the sample image\n",
        "bgr_image = cv2.imdecode(image_bytes, cv2.IMREAD_COLOR)\n",
        "\n",
        "# Color conversion to ensure proper display of images\n",
        "image = cv2.cvtColor(bgr_image, cv2.COLOR_BGR2RGB)\n",
        "\n",
        "# Flipping the sample image\n",
        "flipped_image = cv2.flip(image, -1)\n",
        "\n",
        "# Creation of the MatPlotLib figure for comparison of images\n",
        "create_mpl_figure(30,10, [image, flipped_image])"
      ]
    },
    {
      "cell_type": "markdown",
      "metadata": {},
      "source": [
        "### Cropping / Zooming"
      ]
    },
    {
      "cell_type": "markdown",
      "metadata": {},
      "source": [
        "**What it does:** Displays a certain section of an image, defined by slicing a given image."
      ]
    },
    {
      "cell_type": "markdown",
      "metadata": {},
      "source": [
        "**Why it matters:** Cropping can be very useful for object detection and recognition as a pre-processing step by cropping out the relevant portion of an image, allowing faster and more accurate recognition. Additionally, it can be used as a step of image of segmentation, and other techniques for image analysis."
      ]
    },
    {
      "cell_type": "markdown",
      "metadata": {},
      "source": [
        "**The Code & Output**"
      ]
    },
    {
      "cell_type": "code",
      "execution_count": null,
      "metadata": {},
      "outputs": [],
      "source": [
        "# Reading the sample image\n",
        "bgr_image = cv2.imdecode(image_bytes, cv2.IMREAD_COLOR)\n",
        "\n",
        "# Color conversion to ensure proper display of images\n",
        "image = cv2.cvtColor(bgr_image, cv2.COLOR_BGR2RGB)\n",
        "\n",
        "# Get image shape (width = 550, height = 880, channel = 3)\n",
        "print(image.shape)\n",
        "\n",
        "# Crop image (image[row,column])\n",
        "cropped_image = image[50:180, 100:300]\n",
        "\n",
        "# Creation of the MatPlotLib figure for comparison of images\n",
        "create_mpl_figure(30,10, [image, cropped_image])"
      ]
    },
    {
      "cell_type": "markdown",
      "metadata": {},
      "source": [
        "### Image Pyramids"
      ]
    },
    {
      "cell_type": "markdown",
      "metadata": {},
      "source": [
        "**What it does:** Image Pyramids upsample or downsample a given image."
      ]
    },
    {
      "cell_type": "markdown",
      "metadata": {},
      "source": [
        "**Why it matters:** Upsampling can be used to make smaller images more visible by making them larger, allowing them to be more accurately processed while increasing their size, whereas downsampling can decrease image sizes, enabling more images to be stored, as well as increasing the performance of image processing."
      ]
    },
    {
      "cell_type": "markdown",
      "metadata": {},
      "source": [
        "**The Code & Output**"
      ]
    },
    {
      "cell_type": "code",
      "execution_count": null,
      "metadata": {},
      "outputs": [],
      "source": [
        "# Reading the sample image\n",
        "bgr_image = cv2.imdecode(image_bytes, cv2.IMREAD_COLOR)\n",
        "\n",
        "# Color conversion to ensure proper display of images\n",
        "image = cv2.cvtColor(bgr_image, cv2.COLOR_BGR2RGB)\n",
        "\n",
        "# Upscaling and downscaling the image\n",
        "upscaled_image = cv2.pyrUp(image)\n",
        "downscaled_image = cv2.pyrDown(image)\n",
        "\n",
        "# Creation of the MatPlotLib figure for comparison of images\n",
        "create_mpl_figure(30,10, [downscaled_image, image, upscaled_image])"
      ]
    },
    {
      "cell_type": "code",
      "execution_count": null,
      "metadata": {
        "cellView": "form",
        "colab": {
          "base_uri": "https://localhost:8080/",
          "height": 446
        },
        "id": "TkgFiWYTWDlq",
        "outputId": "79da1bea-f94e-4418-8579-a83a00079baf"
      },
      "outputs": [
        {
          "data": {
            "text/html": [
              "\n",
              "<html>\n",
              "<head>\n",
              "    <style>\n",
              "        body { font-family: 'Arial', sans-serif; text-align: center; background-color: #061445; margin: 0; padding: 80px 20px; }\n",
              "        h1 { color: #fff; margin-bottom: 40px; font-size: 36px; font-weight: 600; line-height: 1.3; max-width: 1500px; margin-left: auto; margin-right: auto; }\n",
              "\n",
              "        .cta-container {\n",
              "            display: flex;\n",
              "            justify-content: center;\n",
              "            flex-wrap: wrap;\n",
              "            gap: 20px;\n",
              "            margin-top: 80px;\n",
              "        }\n",
              "\n",
              "        .cta {\n",
              "            display: inline-block;\n",
              "            font-size: 22px;\n",
              "            font-weight: bold;\n",
              "            color: #2a84dc;\n",
              "            background-color: #ffffff;\n",
              "            padding: 20px 50px;\n",
              "            border-radius: 50px;\n",
              "            text-decoration: none;\n",
              "            box-shadow: 0 4px 15px rgba(0, 0, 0, 0.2);\n",
              "            transition: all 0.4s cubic-bezier(0.175, 0.885, 0.32, 1.275);\n",
              "            position: relative;\n",
              "            overflow: hidden;\n",
              "            z-index: 1;\n",
              "        }\n",
              "\n",
              "        .cta:before {\n",
              "            content: '';\n",
              "            position: absolute;\n",
              "            top: 0;\n",
              "            left: -100%;\n",
              "            width: 100%;\n",
              "            height: 100%;\n",
              "            background: linear-gradient(90deg, rgba(255,255,255,0.1) 0%, rgba(255,255,255,0.3) 50%, rgba(255,255,255,0) 100%);\n",
              "            transition: all 0.4s ease;\n",
              "            z-index: -1;\n",
              "        }\n",
              "\n",
              "        .cta:hover {\n",
              "            background-color: #0f57a1;\n",
              "            color: #ffffff;\n",
              "            transform: translateY(-5px);\n",
              "            box-shadow: 0 10px 20px rgba(0, 0, 0, 0.3);\n",
              "        }\n",
              "\n",
              "        .cta:hover:before {\n",
              "            left: 100%;\n",
              "        }\n",
              "\n",
              "        .cta:active {\n",
              "            transform: translateY(0px);\n",
              "            box-shadow: 0 4px 8px rgba(0, 0, 0, 0.3);\n",
              "            transition: all 0.1s;\n",
              "        }\n",
              "\n",
              "        .cta-website:hover {\n",
              "            background-color: #127ae2;\n",
              "        }\n",
              "\n",
              "        .cta-call:hover {\n",
              "            background-color: #0c7c59;\n",
              "        }\n",
              "\n",
              "        .sub-text {\n",
              "            color: #fff;\n",
              "            font-size: 18px;\n",
              "            margin-top: 40px;\n",
              "            font-style: italic;\n",
              "        }\n",
              "\n",
              "        .social-proof {\n",
              "            color: #a9c2e8;\n",
              "            font-size: 18px;\n",
              "            margin-top: 40px;\n",
              "            font-style: italic;\n",
              "        }\n",
              "    </style>\n",
              "</head>\n",
              "\n",
              "<body>\n",
              "\n",
              "<h1>Take the first step towards actionable, data-driven growth today.</h1>\n",
              "\n",
              "<div class=\"cta-container\">\n",
              "    <a href=\"https://softwaresushi.com/\" target=\"_blank\" class=\"cta cta-website\">Explore Our Services ➔</a>\n",
              "    <a href=\"https://calendly.com/softwaresushi/quick-chat\" target=\"_blank\" class=\"cta cta-call\">Book a Free Consultation ➔</a>\n",
              "</div>\n",
              "\n",
              "<p class=\"social-proof\">5-star satisfaction from every client engagement.</p>\n",
              "\n",
              "</body>\n",
              "</html>\n"
            ],
            "text/plain": [
              "<IPython.core.display.HTML object>"
            ]
          },
          "metadata": {},
          "output_type": "display_data"
        }
      ],
      "source": [
        "# @title Footer\n",
        "load_html_from_github('https://raw.githubusercontent.com/SoftwareSushi/marketing-resources/refs/heads/main/html/cta-banner.html')"
      ]
    }
  ],
  "metadata": {
    "colab": {
      "provenance": []
    },
    "kernelspec": {
      "display_name": "Python 3",
      "name": "python3"
    },
    "language_info": {
      "codemirror_mode": {
        "name": "ipython",
        "version": 3
      },
      "file_extension": ".py",
      "mimetype": "text/x-python",
      "name": "python",
      "nbconvert_exporter": "python",
      "pygments_lexer": "ipython3",
      "version": "3.13.2"
    }
  },
  "nbformat": 4,
  "nbformat_minor": 0
}
